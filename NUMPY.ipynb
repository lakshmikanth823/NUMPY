{
  "nbformat": 4,
  "nbformat_minor": 0,
  "metadata": {
    "colab": {
      "provenance": []
    },
    "kernelspec": {
      "name": "python3",
      "display_name": "Python 3"
    },
    "language_info": {
      "name": "python"
    }
  },
  "cells": [
    {
      "cell_type": "code",
      "execution_count": null,
      "metadata": {
        "colab": {
          "base_uri": "https://localhost:8080/"
        },
        "id": "oxbY2gu0WEHU",
        "outputId": "4dc55da9-11f2-4883-ca4d-a8fa57a696ee"
      },
      "outputs": [
        {
          "output_type": "stream",
          "name": "stdout",
          "text": [
            "[1.8 1.2 1.5] [81.2 85.2 86.2]\n"
          ]
        }
      ],
      "source": [
        "import  numpy as np\n",
        "height=[1.8,1.2,1.5]\n",
        "weight=[81.2,85.2,86.2]\n",
        "np_height=np.array(height)\n",
        "np_weight=np.array(weight)\n",
        "print((np_height),(np_weight))"
      ]
    },
    {
      "cell_type": "markdown",
      "source": [],
      "metadata": {
        "id": "Qt4L7YsDaXdz"
      }
    },
    {
      "cell_type": "code",
      "source": [
        "weight_kg=[82.3,82.4,97.2]\n",
        "import numpy as np\n",
        "np_weight_kg=np.array(weight_kg)\n",
        "np_weight_lbs=np.array(np_weight_kg)\n",
        "print(np_weight_lbs)\n"
      ],
      "metadata": {
        "colab": {
          "base_uri": "https://localhost:8080/"
        },
        "id": "2lq9YoJ1W20k",
        "outputId": "f49d6c1f-1a9d-4002-fcda-1191df052c65"
      },
      "execution_count": null,
      "outputs": [
        {
          "output_type": "stream",
          "name": "stdout",
          "text": [
            "[82.3 82.4 97.2]\n"
          ]
        }
      ]
    },
    {
      "cell_type": "markdown",
      "source": [
        "\n",
        "**NUMPYS**"
      ],
      "metadata": {
        "id": "bh4HvK7EiXm9"
      }
    },
    {
      "cell_type": "code",
      "source": [
        "# the advantage over list\n",
        "a=np.array([1,2,3])\n",
        "b=np.array([1,2,3])\n",
        "print(a*b)"
      ],
      "metadata": {
        "colab": {
          "base_uri": "https://localhost:8080/"
        },
        "id": "mhOgqZMUYJdQ",
        "outputId": "b0dc9318-0cad-4abf-e57a-c6936b0d2f86"
      },
      "execution_count": null,
      "outputs": [
        {
          "output_type": "stream",
          "name": "stdout",
          "text": [
            "[1 4 9]\n"
          ]
        }
      ]
    },
    {
      "cell_type": "code",
      "source": [
        "#Get Dimension\n",
        "a.ndim"
      ],
      "metadata": {
        "colab": {
          "base_uri": "https://localhost:8080/"
        },
        "id": "TbZ0GW4zbH0e",
        "outputId": "3ddfd664-1706-47a4-ce55-9da530c4c0dc"
      },
      "execution_count": null,
      "outputs": [
        {
          "output_type": "execute_result",
          "data": {
            "text/plain": [
              "1"
            ]
          },
          "metadata": {},
          "execution_count": 9
        }
      ]
    },
    {
      "cell_type": "code",
      "source": [
        "#Get shape(array dim and ele count)\n",
        "a.shape"
      ],
      "metadata": {
        "colab": {
          "base_uri": "https://localhost:8080/"
        },
        "id": "p0ibYWijcEzY",
        "outputId": "3b2c2fcf-9484-4800-99ef-9016e7eda5f0"
      },
      "execution_count": null,
      "outputs": [
        {
          "output_type": "execute_result",
          "data": {
            "text/plain": [
              "(3,)"
            ]
          },
          "metadata": {},
          "execution_count": 10
        }
      ]
    },
    {
      "cell_type": "code",
      "source": [
        "c=np.array([[1,2,3,4,5,8],[2,4,6,7,5,0]])\n",
        "c.shape"
      ],
      "metadata": {
        "colab": {
          "base_uri": "https://localhost:8080/"
        },
        "id": "nElhdcwJcY7w",
        "outputId": "039f4e51-1538-46cf-cc9e-cb336c2662c1"
      },
      "execution_count": null,
      "outputs": [
        {
          "output_type": "execute_result",
          "data": {
            "text/plain": [
              "(2, 6)"
            ]
          },
          "metadata": {},
          "execution_count": 11
        }
      ]
    },
    {
      "cell_type": "code",
      "source": [
        "#Get a specific ele\n",
        "c[0,0]"
      ],
      "metadata": {
        "colab": {
          "base_uri": "https://localhost:8080/"
        },
        "id": "hbIWRckEdJdu",
        "outputId": "55f9258e-ee2d-4eb5-8704-e93f9f8bad1a"
      },
      "execution_count": null,
      "outputs": [
        {
          "output_type": "execute_result",
          "data": {
            "text/plain": [
              "1"
            ]
          },
          "metadata": {},
          "execution_count": 12
        }
      ]
    },
    {
      "cell_type": "code",
      "source": [
        "c[1,-2]"
      ],
      "metadata": {
        "colab": {
          "base_uri": "https://localhost:8080/"
        },
        "id": "bbqhOHAUeuU2",
        "outputId": "e2730521-6483-4401-cbcb-2b5b45fe8ef6"
      },
      "execution_count": null,
      "outputs": [
        {
          "output_type": "execute_result",
          "data": {
            "text/plain": [
              "5"
            ]
          },
          "metadata": {},
          "execution_count": 13
        }
      ]
    },
    {
      "cell_type": "code",
      "source": [
        "# Get a specific row\n",
        "c[0,:]"
      ],
      "metadata": {
        "colab": {
          "base_uri": "https://localhost:8080/"
        },
        "id": "vr3gtnxUe6PC",
        "outputId": "f01b96fe-5c62-470f-dc41-7dbed2ed3b18"
      },
      "execution_count": null,
      "outputs": [
        {
          "output_type": "execute_result",
          "data": {
            "text/plain": [
              "array([1, 2, 3, 4, 5, 8])"
            ]
          },
          "metadata": {},
          "execution_count": 14
        }
      ]
    },
    {
      "cell_type": "code",
      "source": [
        "#Get a spec col\n",
        "c[:,3]"
      ],
      "metadata": {
        "colab": {
          "base_uri": "https://localhost:8080/"
        },
        "id": "S56YTRtrfLVX",
        "outputId": "d012c938-af9a-434b-fa7d-455f1759efcb"
      },
      "execution_count": null,
      "outputs": [
        {
          "output_type": "execute_result",
          "data": {
            "text/plain": [
              "array([4, 7])"
            ]
          },
          "metadata": {},
          "execution_count": 15
        }
      ]
    },
    {
      "cell_type": "code",
      "source": [
        "#Start:End:Step Size\n",
        "c[1,0:5:2]"
      ],
      "metadata": {
        "colab": {
          "base_uri": "https://localhost:8080/"
        },
        "id": "RLAeDttEgjyA",
        "outputId": "befdb09b-6e84-46f8-e99f-ebd9ab235b08"
      },
      "execution_count": null,
      "outputs": [
        {
          "output_type": "execute_result",
          "data": {
            "text/plain": [
              "array([2, 6, 5])"
            ]
          },
          "metadata": {},
          "execution_count": 16
        }
      ]
    },
    {
      "cell_type": "code",
      "source": [
        "#To Change ele\n",
        "c[1,4]=15\n",
        "print(c)"
      ],
      "metadata": {
        "colab": {
          "base_uri": "https://localhost:8080/"
        },
        "id": "L2QAyYTHhxlf",
        "outputId": "f5a19c5e-9af4-42b6-b29a-2acdfac2859a"
      },
      "execution_count": null,
      "outputs": [
        {
          "output_type": "stream",
          "name": "stdout",
          "text": [
            "[[ 1  2  3  4  5  8]\n",
            " [ 2  4  6  7 15  0]]\n"
          ]
        }
      ]
    },
    {
      "cell_type": "code",
      "source": [
        "c[:,4]=55\n",
        "print(c)"
      ],
      "metadata": {
        "colab": {
          "base_uri": "https://localhost:8080/"
        },
        "id": "MsbUsS4xiPrg",
        "outputId": "dc396189-6571-4fd0-8e6b-35e1c31c6b32"
      },
      "execution_count": null,
      "outputs": [
        {
          "output_type": "stream",
          "name": "stdout",
          "text": [
            "[[ 1  2  3  4 55  8]\n",
            " [ 2  4  6  7 55  0]]\n"
          ]
        }
      ]
    },
    {
      "cell_type": "code",
      "source": [
        "d=np.array([[[2,17], [45, 78]], [[88, 92], [60, 76]],[[76,33],[20,18]]])\n",
        "d.shape"
      ],
      "metadata": {
        "colab": {
          "base_uri": "https://localhost:8080/"
        },
        "id": "8KTa_-N5jWNT",
        "outputId": "21caa429-1094-4485-814b-404fbfa24a66"
      },
      "execution_count": null,
      "outputs": [
        {
          "output_type": "execute_result",
          "data": {
            "text/plain": [
              "(3, 2, 2)"
            ]
          },
          "metadata": {},
          "execution_count": 19
        }
      ]
    },
    {
      "cell_type": "code",
      "source": [
        "d[2,1,1]"
      ],
      "metadata": {
        "colab": {
          "base_uri": "https://localhost:8080/"
        },
        "id": "ty3Lfat6nAUX",
        "outputId": "fdacb824-bb82-4467-9dbe-51484db97e2c"
      },
      "execution_count": null,
      "outputs": [
        {
          "output_type": "execute_result",
          "data": {
            "text/plain": [
              "18"
            ]
          },
          "metadata": {},
          "execution_count": 20
        }
      ]
    },
    {
      "cell_type": "code",
      "source": [
        "d[:,0,:]"
      ],
      "metadata": {
        "id": "GTQzu7VZr11I",
        "outputId": "ad2fe07e-71c0-4cde-cfd1-99871ead68b3",
        "colab": {
          "base_uri": "https://localhost:8080/"
        }
      },
      "execution_count": null,
      "outputs": [
        {
          "output_type": "execute_result",
          "data": {
            "text/plain": [
              "array([[ 2, 17],\n",
              "       [88, 92],\n",
              "       [76, 33]])"
            ]
          },
          "metadata": {},
          "execution_count": 21
        }
      ]
    },
    {
      "cell_type": "code",
      "source": [
        "np.full((3,3),11)"
      ],
      "metadata": {
        "colab": {
          "base_uri": "https://localhost:8080/"
        },
        "id": "ludsCakpzurN",
        "outputId": "f48ac02d-2c8b-4354-f1af-e4d468c391ed"
      },
      "execution_count": null,
      "outputs": [
        {
          "output_type": "execute_result",
          "data": {
            "text/plain": [
              "array([[11, 11, 11],\n",
              "       [11, 11, 11],\n",
              "       [11, 11, 11]])"
            ]
          },
          "metadata": {},
          "execution_count": 22
        }
      ]
    },
    {
      "cell_type": "code",
      "source": [
        "np.full_like(b,5)"
      ],
      "metadata": {
        "colab": {
          "base_uri": "https://localhost:8080/"
        },
        "id": "H31ge8jd0lY1",
        "outputId": "062ebcaf-011c-4f71-c60c-d32e44c6fd39"
      },
      "execution_count": null,
      "outputs": [
        {
          "output_type": "execute_result",
          "data": {
            "text/plain": [
              "array([5, 5, 5])"
            ]
          },
          "metadata": {},
          "execution_count": 23
        }
      ]
    },
    {
      "cell_type": "code",
      "source": [
        "np.random.rand(4,2)"
      ],
      "metadata": {
        "colab": {
          "base_uri": "https://localhost:8080/"
        },
        "id": "ulgMiU3c1BJI",
        "outputId": "9db2303f-c6f8-4a65-c3ec-450db48de293"
      },
      "execution_count": null,
      "outputs": [
        {
          "output_type": "execute_result",
          "data": {
            "text/plain": [
              "array([[0.92337671, 0.19672572],\n",
              "       [0.54530063, 0.32704834],\n",
              "       [0.86017651, 0.46329433],\n",
              "       [0.93895773, 0.65365923]])"
            ]
          },
          "metadata": {},
          "execution_count": 28
        }
      ]
    },
    {
      "cell_type": "code",
      "source": [
        "np.random.randint(5,8,size=(4,2))"
      ],
      "metadata": {
        "colab": {
          "base_uri": "https://localhost:8080/"
        },
        "id": "D5hlrcnD1X_W",
        "outputId": "85961170-ae86-48dc-ecb6-8de229b3353f"
      },
      "execution_count": null,
      "outputs": [
        {
          "output_type": "execute_result",
          "data": {
            "text/plain": [
              "array([[7, 6],\n",
              "       [5, 5],\n",
              "       [7, 6],\n",
              "       [7, 6]])"
            ]
          },
          "metadata": {},
          "execution_count": 34
        }
      ]
    },
    {
      "cell_type": "code",
      "source": [
        "arr=np.array([[1,2,3]])\n",
        "r=np.repeat(arr,3,axis=0)\n",
        "print(r)"
      ],
      "metadata": {
        "colab": {
          "base_uri": "https://localhost:8080/"
        },
        "id": "F14lV-Gu2CJm",
        "outputId": "c2d51987-f17e-494c-c206-8ddab719b8f0"
      },
      "execution_count": null,
      "outputs": [
        {
          "output_type": "stream",
          "name": "stdout",
          "text": [
            "[[1 2 3]\n",
            " [1 2 3]\n",
            " [1 2 3]]\n"
          ]
        }
      ]
    },
    {
      "cell_type": "markdown",
      "source": [
        "**Example**"
      ],
      "metadata": {
        "id": "UYRqVrG0Lxfi"
      }
    },
    {
      "cell_type": "markdown",
      "source": [
        "![image.png](data:image/png;base64,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)"
      ],
      "metadata": {
        "id": "-YQ3XP-pLeow"
      }
    },
    {
      "cell_type": "code",
      "source": [
        "output=np.ones((5,5))\n",
        "print(output)\n",
        "out=np.zeros((3,3))\n",
        "out[1,1]=9\n",
        "print(out)\n",
        "output[1:-1,1:-1]=out\n",
        "print(output)\n"
      ],
      "metadata": {
        "colab": {
          "base_uri": "https://localhost:8080/"
        },
        "id": "ZwRMxd4sHyrj",
        "outputId": "e61dbfe4-8712-4a6b-f437-28e0de3af13e"
      },
      "execution_count": null,
      "outputs": [
        {
          "output_type": "stream",
          "name": "stdout",
          "text": [
            "[[1. 1. 1. 1. 1.]\n",
            " [1. 1. 1. 1. 1.]\n",
            " [1. 1. 1. 1. 1.]\n",
            " [1. 1. 1. 1. 1.]\n",
            " [1. 1. 1. 1. 1.]]\n",
            "[[0. 0. 0.]\n",
            " [0. 9. 0.]\n",
            " [0. 0. 0.]]\n",
            "[[1. 1. 1. 1. 1.]\n",
            " [1. 0. 0. 0. 1.]\n",
            " [1. 0. 9. 0. 1.]\n",
            " [1. 0. 0. 0. 1.]\n",
            " [1. 1. 1. 1. 1.]]\n"
          ]
        }
      ]
    },
    {
      "cell_type": "code",
      "source": [
        "#Copying arrays\n",
        "arr=np.array([1,2,3])\n",
        "array=arr\n",
        "array[0]=100\n",
        "print(\"array:\",array)\n",
        "print(\"arr:\",arr)"
      ],
      "metadata": {
        "colab": {
          "base_uri": "https://localhost:8080/"
        },
        "id": "g6ROEZxbKAFx",
        "outputId": "180d8284-3b00-4ad5-f7ed-608a34179ee2"
      },
      "execution_count": null,
      "outputs": [
        {
          "output_type": "stream",
          "name": "stdout",
          "text": [
            "array: [100   2   3]\n",
            "arr: [100   2   3]\n"
          ]
        }
      ]
    },
    {
      "cell_type": "code",
      "source": [
        "arr=np.array([1,2,3])\n",
        "array=arr.copy()\n",
        "array[0]=100\n",
        "print(\"array:\",array)\n",
        "print(\"arr:\",arr)"
      ],
      "metadata": {
        "colab": {
          "base_uri": "https://localhost:8080/"
        },
        "id": "BHu_3xrUMUH9",
        "outputId": "73dd8b04-3f44-4251-c9d1-b22860059bf9"
      },
      "execution_count": null,
      "outputs": [
        {
          "output_type": "stream",
          "name": "stdout",
          "text": [
            "array: [100   2   3]\n",
            "arr: [1 2 3]\n"
          ]
        }
      ]
    },
    {
      "cell_type": "markdown",
      "source": [
        "**Mathematics**"
      ],
      "metadata": {
        "id": "J7SA7ft8Ni-o"
      }
    },
    {
      "cell_type": "code",
      "source": [
        "a1=np.array([5,5,5])\n",
        "b1=np.array([1,2,3,])\n"
      ],
      "metadata": {
        "id": "-XfrrLAhMxn4"
      },
      "execution_count": null,
      "outputs": []
    },
    {
      "cell_type": "code",
      "source": [
        "a1+2"
      ],
      "metadata": {
        "colab": {
          "base_uri": "https://localhost:8080/"
        },
        "id": "8fL3cJQ7N3VR",
        "outputId": "c0b87251-4a36-4987-b698-059cff3cb375"
      },
      "execution_count": null,
      "outputs": [
        {
          "output_type": "execute_result",
          "data": {
            "text/plain": [
              "array([7, 7, 7])"
            ]
          },
          "metadata": {},
          "execution_count": 48
        }
      ]
    },
    {
      "cell_type": "code",
      "source": [
        "a1*3"
      ],
      "metadata": {
        "colab": {
          "base_uri": "https://localhost:8080/"
        },
        "id": "Ab8ZPm1GOFHa",
        "outputId": "5b20ed08-56dc-4645-d83d-c29f4d0d4c55"
      },
      "execution_count": null,
      "outputs": [
        {
          "output_type": "execute_result",
          "data": {
            "text/plain": [
              "array([15, 15, 15])"
            ]
          },
          "metadata": {},
          "execution_count": 49
        }
      ]
    },
    {
      "cell_type": "code",
      "source": [
        "b1//2\n"
      ],
      "metadata": {
        "colab": {
          "base_uri": "https://localhost:8080/"
        },
        "id": "VJ4rHFaeONq1",
        "outputId": "c27f4fa5-eb6c-4bd5-eca3-e2d85b61bf03"
      },
      "execution_count": null,
      "outputs": [
        {
          "output_type": "execute_result",
          "data": {
            "text/plain": [
              "array([0, 1, 1])"
            ]
          },
          "metadata": {},
          "execution_count": 57
        }
      ]
    },
    {
      "cell_type": "code",
      "source": [
        "a1*b1"
      ],
      "metadata": {
        "colab": {
          "base_uri": "https://localhost:8080/"
        },
        "id": "gaMN0lWWPcE7",
        "outputId": "781821e9-5335-4db4-8ce4-4c94af3265df"
      },
      "execution_count": null,
      "outputs": [
        {
          "output_type": "execute_result",
          "data": {
            "text/plain": [
              "array([ 5, 10, 15])"
            ]
          },
          "metadata": {},
          "execution_count": 58
        }
      ]
    },
    {
      "cell_type": "markdown",
      "source": [
        "**Linear Algebra**"
      ],
      "metadata": {
        "id": "u5G41RaXQ6zl"
      }
    },
    {
      "cell_type": "code",
      "source": [
        "L=np.ones((2,3))\n",
        "print(L)\n",
        "A=np.full((3,2),2)\n",
        "print(A)\n"
      ],
      "metadata": {
        "colab": {
          "base_uri": "https://localhost:8080/"
        },
        "id": "_LT82bQOPuE-",
        "outputId": "24983d00-c41a-49d6-c8ac-7c99c550f05b"
      },
      "execution_count": null,
      "outputs": [
        {
          "output_type": "stream",
          "name": "stdout",
          "text": [
            "[[1. 1. 1.]\n",
            " [1. 1. 1.]]\n",
            "[[2 2]\n",
            " [2 2]\n",
            " [2 2]]\n"
          ]
        }
      ]
    },
    {
      "cell_type": "code",
      "source": [
        "\"\"\"Cant multiply by normal metod:\n",
        "L*A\"\"\"\n",
        "np.matmul(L,A)"
      ],
      "metadata": {
        "colab": {
          "base_uri": "https://localhost:8080/"
        },
        "id": "dSbJSFTHRk5h",
        "outputId": "f990f89b-4bf4-425b-e61e-003d7c614104"
      },
      "execution_count": null,
      "outputs": [
        {
          "output_type": "execute_result",
          "data": {
            "text/plain": [
              "array([[6., 6.],\n",
              "       [6., 6.]])"
            ]
          },
          "metadata": {},
          "execution_count": 64
        }
      ]
    },
    {
      "cell_type": "code",
      "source": [
        "I=np.identity(3)\n",
        "np.linalg.det(I)"
      ],
      "metadata": {
        "colab": {
          "base_uri": "https://localhost:8080/"
        },
        "id": "_6vvay4lR92g",
        "outputId": "4e3ff762-9e2d-44bf-81c5-0d5ba6f6fd53"
      },
      "execution_count": null,
      "outputs": [
        {
          "output_type": "execute_result",
          "data": {
            "text/plain": [
              "1.0"
            ]
          },
          "metadata": {},
          "execution_count": 69
        }
      ]
    },
    {
      "cell_type": "markdown",
      "source": [
        "**Reorganizing and Stacking**"
      ],
      "metadata": {
        "id": "oG24L3nSS4YO"
      }
    },
    {
      "cell_type": "code",
      "source": [
        "R=np.array([[5,8,1],[1,5,8]])\n",
        "print(R)\n",
        "print(\".....................\")\n",
        "print(\"After Reshaping:\")\n",
        "\n",
        "R.reshape((3,2))"
      ],
      "metadata": {
        "colab": {
          "base_uri": "https://localhost:8080/"
        },
        "id": "j8T4GIFRS9Sz",
        "outputId": "0ab41872-05b2-4783-8beb-f8559f071ef3"
      },
      "execution_count": null,
      "outputs": [
        {
          "output_type": "stream",
          "name": "stdout",
          "text": [
            "[[5 8 1]\n",
            " [1 5 8]]\n",
            ".....................\n",
            "After Reshaping:\n"
          ]
        },
        {
          "output_type": "execute_result",
          "data": {
            "text/plain": [
              "array([[5, 8],\n",
              "       [1, 1],\n",
              "       [5, 8]])"
            ]
          },
          "metadata": {},
          "execution_count": 83
        }
      ]
    },
    {
      "cell_type": "code",
      "source": [
        "s1=np.array([7,9,11])\n",
        "s2=np.array([11,9,7])\n",
        "np.vstack([s1,s2])\n"
      ],
      "metadata": {
        "colab": {
          "base_uri": "https://localhost:8080/"
        },
        "id": "KsrGOKDZVavZ",
        "outputId": "c1a8de7f-d192-40bb-f2a7-a5c4a056ecf0"
      },
      "execution_count": null,
      "outputs": [
        {
          "output_type": "execute_result",
          "data": {
            "text/plain": [
              "array([[ 7,  9, 11],\n",
              "       [11,  9,  7]])"
            ]
          },
          "metadata": {},
          "execution_count": 87
        }
      ]
    },
    {
      "cell_type": "code",
      "source": [
        "\n",
        "np.hstack([s1,s2])"
      ],
      "metadata": {
        "colab": {
          "base_uri": "https://localhost:8080/"
        },
        "id": "B2ZoaCe_WJyH",
        "outputId": "0074eb6f-9057-4151-d2a4-36a9d91bd048"
      },
      "execution_count": null,
      "outputs": [
        {
          "output_type": "execute_result",
          "data": {
            "text/plain": [
              "array([ 7,  9, 11, 11,  9,  7])"
            ]
          },
          "metadata": {},
          "execution_count": 88
        }
      ]
    },
    {
      "cell_type": "markdown",
      "source": [
        "**Miscellaneous**"
      ],
      "metadata": {
        "id": "9IcXos18WiN4"
      }
    },
    {
      "cell_type": "code",
      "source": [
        "data=np.genfromtxt('data.txt',delimiter=',')\n",
        "data=data.astype('int32')\n",
        "print(data)"
      ],
      "metadata": {
        "id": "dV_BPjVyWNxf"
      },
      "execution_count": null,
      "outputs": []
    },
    {
      "cell_type": "markdown",
      "source": [
        "**Boolean Masking and Advanced indexing**"
      ],
      "metadata": {
        "id": "er0CVy4DYapI"
      }
    },
    {
      "cell_type": "code",
      "source": [
        "data>5\n"
      ],
      "metadata": {
        "id": "efoiTrZ-YRA3"
      },
      "execution_count": null,
      "outputs": []
    },
    {
      "cell_type": "code",
      "source": [
        "((data>5)&(data<2))"
      ],
      "metadata": {
        "id": "_iears0BY59i"
      },
      "execution_count": null,
      "outputs": []
    },
    {
      "cell_type": "code",
      "source": [],
      "metadata": {
        "id": "TuXl9VyCZxAq"
      },
      "execution_count": null,
      "outputs": []
    }
  ]
}